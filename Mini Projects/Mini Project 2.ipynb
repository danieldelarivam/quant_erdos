{
 "cells": [
  {
   "cell_type": "markdown",
   "id": "5e7d8b72",
   "metadata": {},
   "source": [
    "# Mini Project 2\n",
    "\n",
    "**2025 Introduction to Quantiative Methods in Finance**\n",
    "\n",
    "**The Erdös Institute**\n",
    "\n",
    "\n",
    "###  Hypothesis Testing of Standard Assumptions Theoretical Financial Mathematics\n",
    "\n",
    "In the theory of mathematical finance, it is common to assume the log returns of a stock/index are normally distributed.\n",
    "\n",
    "\n",
    "Investigate if the log returns of stocks or indexes of your choosing are normally distributed. Some suggestions for exploration include:\n",
    "\n",
    "    1) Test if there are period of times when the log-returns of a stock/index have evidence of normal distribution.\n",
    "    \n",
    "    2) Test if removing extremal return data creates a distribution with evidence of being normal.\n",
    "    \n",
    "    3) Create a personalized portfolio of stocks with historical log return data that is normally distributed.\n",
    "    \n",
    "    4) Test if the portfolio you created in the first mini-project has significant periods of time with evidence of normally distributed log returns.\n",
    "    \n",
    "    5) Gather x-number of historical stock data and just perform a normality test on their log return data to see if any of the stocks exhibit evidence of log returns that are normally distributed."
   ]
  },
  {
   "cell_type": "code",
   "execution_count": 2,
   "id": "5596fc5d",
   "metadata": {},
   "outputs": [],
   "source": [
    "# Package imports\n",
    "import numpy as np\n",
    "import pandas as pd\n",
    "import matplotlib.pyplot as plt\n",
    "import scipy.stats as stats\n",
    "import seaborn as sns\n",
    "import yfinance as yf\n",
    "import datetime as dt\n",
    "sns.set_style('darkgrid')"
   ]
  },
  {
   "cell_type": "markdown",
   "id": "c48fdb8f-0ec2-4189-828f-667d125c6cb0",
   "metadata": {},
   "source": [
    "Let's observe if there's any period of time where the log of Tesla stock returns have evidence of normal distribution."
   ]
  },
  {
   "cell_type": "code",
   "execution_count": 3,
   "id": "cf9f93a6-a25c-4299-bcdf-226e6fe762e4",
   "metadata": {},
   "outputs": [],
   "source": [
    "def t_logreturns(num_years=1):\n",
    "    \"\"\"\n",
    "    Estimates pi using the Monte Carlo method.\n",
    "\n",
    "    Args:\n",
    "      num_points: The number of random points to generate.\n",
    "\n",
    "    Returns:\n",
    "      An approximation of pi.\n",
    "    \"\"\"\n",
    "    n = num_years\n",
    "    start_date = dt.datetime.today() - dt.timedelta(days = n*365)\n",
    "    end_date = dt.datetime.today()\n",
    "    \n",
    "    TSLA_stock = yf.download('TSLA', start = start_date, end = end_date)\n",
    "    TSLA_returns = TSLA_stock['Close']/TSLA_stock['Close'].shift(1)\n",
    "    TSLA_logreturns = np.log(TSLA_returns.dropna())['TSLA'].values\n",
    "    \n",
    "    return TSLA_logreturns"
   ]
  },
  {
   "cell_type": "code",
   "execution_count": 5,
   "id": "42b9350e-dc8e-4048-a03b-07d5bdef2015",
   "metadata": {},
   "outputs": [
    {
     "name": "stdout",
     "output_type": "stream",
     "text": [
      "YF.download() has changed argument auto_adjust default to True\n"
     ]
    },
    {
     "name": "stderr",
     "output_type": "stream",
     "text": [
      "[*********************100%***********************]  1 of 1 completed\n"
     ]
    },
    {
     "data": {
      "text/plain": [
       "array([-3.17333272e-03,  1.46489232e-02, -3.97899740e-03, -1.01025696e-02,\n",
       "       -8.65947999e-03,  1.31512570e-03,  1.66604546e-02, -2.58852610e-03,\n",
       "       -2.10102673e-02, -1.81743406e-02,  3.81134775e-02,  2.87990106e-02,\n",
       "       -2.47460850e-02,  5.16191096e-02, -1.38600221e-02, -1.79574905e-02,\n",
       "        7.89947152e-03, -2.35232298e-03,  2.57901147e-02,  4.70220521e-02,\n",
       "        5.33281982e-03,  2.32738132e-03,  5.87798336e-02,  9.71019503e-02,\n",
       "        6.33730490e-02,  2.06068823e-02,  5.62978988e-03,  3.64508859e-02,\n",
       "        3.53897209e-03, -8.82207721e-02,  2.94343165e-02,  1.76098296e-02,\n",
       "        1.53969978e-02, -3.19197003e-02,  2.93330222e-03, -4.10761384e-02,\n",
       "        5.01827190e-02, -2.06076490e-02, -1.31642944e-01,  1.95311291e-02,\n",
       "       -2.04520896e-03,  5.44502837e-02, -4.17020794e-02,  4.15728217e-02,\n",
       "       -6.77870950e-02, -4.33017143e-02, -4.32486202e-02,  8.81060209e-03,\n",
       "       -4.52676929e-02,  3.62559013e-02,  5.81690374e-03, -1.26293886e-02,\n",
       "        5.10324687e-02, -3.15267519e-02,  6.14363091e-02,  9.20378250e-03,\n",
       "        3.00815962e-02, -7.30026716e-03,  9.76670508e-03, -5.81363438e-02,\n",
       "        4.48355914e-02, -3.28034412e-02, -1.89390627e-02, -1.66767247e-02,\n",
       "        2.57262371e-03,  3.72554412e-02, -1.65292758e-02,  4.09815137e-02,\n",
       "        4.78760160e-02, -8.82404854e-02,  2.59499739e-02,  4.47592740e-02,\n",
       "        8.62874251e-03,  7.33720664e-03,  2.08648516e-03, -1.53589759e-02,\n",
       "        4.79489032e-03, -2.94459606e-03,  7.10096218e-02, -2.35197526e-02,\n",
       "        4.81403753e-02,  1.69357935e-02,  1.07571488e-02, -1.09538215e-02,\n",
       "        2.42492271e-02,  4.48204484e-03, -1.38942519e-02, -3.55038270e-02,\n",
       "       -3.41480675e-02,  3.83957098e-02, -3.76895760e-02,  1.51240109e-02,\n",
       "       -1.42109154e-02, -9.50363013e-03, -9.19235389e-02,  6.22484887e-03,\n",
       "        1.86904826e-03,  7.98368709e-03, -1.98997144e-03, -8.60537851e-04,\n",
       "       -8.41770791e-03, -4.02914729e-03, -2.00183107e-02,  1.98186991e-01,\n",
       "        3.28913341e-02, -2.51282453e-02, -1.14554852e-02, -7.61989998e-03,\n",
       "       -3.03530664e-02, -3.48820743e-03, -2.49697796e-02,  3.48016270e-02,\n",
       "        1.37594660e-01,  2.86300125e-02,  7.86971755e-02,  8.58069040e-02,\n",
       "       -6.34267882e-02,  5.31326695e-03, -5.94481339e-02,  3.01969728e-02,\n",
       "        5.46643505e-02,  2.12059524e-02, -1.15403261e-02, -7.01217268e-03,\n",
       "        3.73345373e-02, -4.04308885e-02, -1.06375515e-03, -1.59140208e-02,\n",
       "        3.61959392e-02,  3.39797523e-02, -1.60057131e-02,  1.83552886e-02,\n",
       "        3.17862339e-02,  5.20210896e-02,  1.46341490e-03,  2.83283105e-02,\n",
       "        5.76113551e-02, -1.58271671e-02,  4.24489994e-02,  5.96005736e-02,\n",
       "        3.57241382e-02, -8.64242153e-02, -9.03804252e-03, -3.52567709e-02,\n",
       "        2.24042636e-02,  7.09911664e-02, -1.77872540e-02, -5.07452616e-02,\n",
       "       -3.35692889e-02, -3.30502101e-02, -6.27440355e-02,  7.89550456e-02,\n",
       "        1.48507096e-03, -4.14506713e-02,  1.46970025e-03, -5.06565224e-04,\n",
       "        2.14781954e-02, -1.73826387e-02,  7.73142328e-02, -3.42059707e-02,\n",
       "        3.01812526e-02, -5.71381372e-03, -2.13550432e-02, -6.59824386e-03,\n",
       "       -1.41645876e-02, -2.34666509e-02,  2.36407346e-03, -2.28417055e-02,\n",
       "        2.83279035e-02,  1.07346406e-02, -5.30900871e-02,  2.19885361e-02,\n",
       "       -3.64535234e-02, -1.02327994e-02, -3.45171429e-02, -3.05771952e-02,\n",
       "       -6.54798901e-02,  2.40910574e-02,  5.61342888e-02, -2.81002850e-04,\n",
       "       -4.87362337e-03,  1.80508136e-02, -1.72321701e-02, -4.79722333e-02,\n",
       "       -2.17565452e-02, -8.76249418e-02, -4.04367776e-02, -3.09059101e-02,\n",
       "        3.83745913e-02, -2.88440508e-02, -4.53111882e-02,  2.56210167e-02,\n",
       "       -5.77065194e-02, -2.96510041e-03, -1.67545741e-01,  3.72450798e-02,\n",
       "        7.31936871e-02, -3.03233489e-02,  3.79126777e-02, -4.90682311e-02,\n",
       "       -5.48354456e-02,  4.57611904e-02,  1.69445902e-03,  5.13547158e-02,\n",
       "        1.12735475e-01,  3.44234631e-02, -5.74239027e-02,  3.92526896e-03,\n",
       "       -3.57048332e-02, -1.67974113e-02,  3.52562495e-02,  5.18966206e-02,\n",
       "       -5.63017224e-02, -1.10035726e-01, -2.59787819e-02, -5.02357310e-02,\n",
       "        2.04490580e-01, -7.55220286e-02, -3.56625945e-04,  1.58556433e-04,\n",
       "        6.95020957e-03, -5.06907429e-02, -7.45497986e-04, -5.91807673e-02,\n",
       "        4.49943820e-02,  5.22719472e-02,  3.43787075e-02,  9.35184940e-02,\n",
       "        3.25839031e-03,  2.12843731e-02, -3.43822336e-02, -5.82931440e-03,\n",
       "        2.35686413e-02, -2.44958472e-02, -1.76747407e-02,  3.15461619e-03,\n",
       "        3.06597734e-02,  4.61081946e-02,  6.52800312e-02,  4.81049205e-02,\n",
       "        3.99319217e-02, -1.40769460e-02,  2.06704919e-02, -2.28021918e-02,\n",
       "        5.04443628e-03, -2.71227409e-02,  1.90042525e-02, -4.99725369e-03,\n",
       "        6.70972546e-02])"
      ]
     },
     "execution_count": 5,
     "metadata": {},
     "output_type": "execute_result"
    }
   ],
   "source": [
    "t_logreturns(1)"
   ]
  },
  {
   "cell_type": "code",
   "execution_count": 12,
   "id": "41f99496-1128-4eae-b5f3-e04392f89275",
   "metadata": {},
   "outputs": [
    {
     "name": "stderr",
     "output_type": "stream",
     "text": [
      "[*********************100%***********************]  1 of 1 completed\n"
     ]
    }
   ],
   "source": [
    "start_date = dt.datetime.today() - dt.timedelta(days = 365)\n",
    "end_date = dt.datetime.today()\n",
    "    \n",
    "TSLA_stock = yf.download('TSLA', start = start_date, end = end_date)\n",
    "TSLA_returns = TSLA_stock['Close']/TSLA_stock['Close'].shift(1)\n",
    "TSLA_logreturns = np.log(TSLA_returns.dropna())"
   ]
  },
  {
   "cell_type": "code",
   "execution_count": 13,
   "id": "15f24fc0-62f1-4dcc-a6f1-a0e85956b57d",
   "metadata": {},
   "outputs": [
    {
     "data": {
      "text/html": [
       "<div>\n",
       "<style scoped>\n",
       "    .dataframe tbody tr th:only-of-type {\n",
       "        vertical-align: middle;\n",
       "    }\n",
       "\n",
       "    .dataframe tbody tr th {\n",
       "        vertical-align: top;\n",
       "    }\n",
       "\n",
       "    .dataframe thead th {\n",
       "        text-align: right;\n",
       "    }\n",
       "</style>\n",
       "<table border=\"1\" class=\"dataframe\">\n",
       "  <thead>\n",
       "    <tr style=\"text-align: right;\">\n",
       "      <th>Ticker</th>\n",
       "      <th>TSLA</th>\n",
       "    </tr>\n",
       "    <tr>\n",
       "      <th>Date</th>\n",
       "      <th></th>\n",
       "    </tr>\n",
       "  </thead>\n",
       "  <tbody>\n",
       "    <tr>\n",
       "      <th>2024-05-29</th>\n",
       "      <td>-0.003173</td>\n",
       "    </tr>\n",
       "    <tr>\n",
       "      <th>2024-05-30</th>\n",
       "      <td>0.014649</td>\n",
       "    </tr>\n",
       "    <tr>\n",
       "      <th>2024-05-31</th>\n",
       "      <td>-0.003979</td>\n",
       "    </tr>\n",
       "    <tr>\n",
       "      <th>2024-06-03</th>\n",
       "      <td>-0.010103</td>\n",
       "    </tr>\n",
       "    <tr>\n",
       "      <th>2024-06-04</th>\n",
       "      <td>-0.008659</td>\n",
       "    </tr>\n",
       "    <tr>\n",
       "      <th>...</th>\n",
       "      <td>...</td>\n",
       "    </tr>\n",
       "    <tr>\n",
       "      <th>2025-05-20</th>\n",
       "      <td>0.005044</td>\n",
       "    </tr>\n",
       "    <tr>\n",
       "      <th>2025-05-21</th>\n",
       "      <td>-0.027123</td>\n",
       "    </tr>\n",
       "    <tr>\n",
       "      <th>2025-05-22</th>\n",
       "      <td>0.019004</td>\n",
       "    </tr>\n",
       "    <tr>\n",
       "      <th>2025-05-23</th>\n",
       "      <td>-0.004997</td>\n",
       "    </tr>\n",
       "    <tr>\n",
       "      <th>2025-05-27</th>\n",
       "      <td>0.067097</td>\n",
       "    </tr>\n",
       "  </tbody>\n",
       "</table>\n",
       "<p>249 rows × 1 columns</p>\n",
       "</div>"
      ],
      "text/plain": [
       "Ticker          TSLA\n",
       "Date                \n",
       "2024-05-29 -0.003173\n",
       "2024-05-30  0.014649\n",
       "2024-05-31 -0.003979\n",
       "2024-06-03 -0.010103\n",
       "2024-06-04 -0.008659\n",
       "...              ...\n",
       "2025-05-20  0.005044\n",
       "2025-05-21 -0.027123\n",
       "2025-05-22  0.019004\n",
       "2025-05-23 -0.004997\n",
       "2025-05-27  0.067097\n",
       "\n",
       "[249 rows x 1 columns]"
      ]
     },
     "execution_count": 13,
     "metadata": {},
     "output_type": "execute_result"
    }
   ],
   "source": [
    "TSLA_logreturns"
   ]
  },
  {
   "cell_type": "code",
   "execution_count": 12,
   "id": "2ccbfd40-8465-4d99-8394-4cb7fe2d071a",
   "metadata": {},
   "outputs": [
    {
     "name": "stderr",
     "output_type": "stream",
     "text": [
      "[*********************100%***********************]  1 of 1 completed"
     ]
    },
    {
     "name": "stdout",
     "output_type": "stream",
     "text": [
      "TSLA log return distribution: p-value = 0.0000\n",
      "→ Statistically significant evidence that the data is NOT normally distributed.\n",
      "--------------------------------------------------------------------------------\n",
      "--------------------------------------------------------------------------------\n"
     ]
    },
    {
     "name": "stderr",
     "output_type": "stream",
     "text": [
      "\n"
     ]
    }
   ],
   "source": [
    "#Collect p-values of normality tests\n",
    "p_tsla=stats.normaltest(t_logreturns(1))[1]\n",
    "\n",
    "\n",
    "#Print evidence/non-evidence of normality\n",
    "print(f\"TSLA log return distribution: p-value = {p_tsla:.4f}\")\n",
    "if p_tsla < 0.05:\n",
    "    print(\"→ Statistically significant evidence that the data is NOT normally distributed.\")\n",
    "else:\n",
    "    print(\"→ No statistically significant evidence against normality.\")\n",
    "    \n",
    "print('--'*40) \n",
    "print('--'*40) "
   ]
  },
  {
   "cell_type": "code",
   "execution_count": null,
   "id": "2e769e1d-5a48-4339-83d3-42c3a404db13",
   "metadata": {},
   "outputs": [],
   "source": []
  }
 ],
 "metadata": {
  "kernelspec": {
   "display_name": "Python [conda env:base] *",
   "language": "python",
   "name": "conda-base-py"
  },
  "language_info": {
   "codemirror_mode": {
    "name": "ipython",
    "version": 3
   },
   "file_extension": ".py",
   "mimetype": "text/x-python",
   "name": "python",
   "nbconvert_exporter": "python",
   "pygments_lexer": "ipython3",
   "version": "3.12.8"
  }
 },
 "nbformat": 4,
 "nbformat_minor": 5
}
