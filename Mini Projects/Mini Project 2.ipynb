{
 "cells": [
  {
   "cell_type": "markdown",
   "id": "5e7d8b72",
   "metadata": {},
   "source": [
    "# Mini Project 2\n",
    "\n",
    "**2025 Introduction to Quantiative Methods in Finance**\n",
    "\n",
    "**The Erdös Institute**\n",
    "\n",
    "\n",
    "###  Hypothesis Testing of Standard Assumptions Theoretical Financial Mathematics\n",
    "\n",
    "In the theory of mathematical finance, it is common to assume the log returns of a stock/index are normally distributed.\n",
    "\n",
    "\n",
    "Investigate if the log returns of stocks or indexes of your choosing are normally distributed. Some suggestions for exploration include:\n",
    "\n",
    "    1) Test if there are period of times when the log-returns of a stock/index have evidence of normal distribution.\n",
    "    \n",
    "    2) Test if removing extremal return data creates a distribution with evidence of being normal.\n",
    "    \n",
    "    3) Create a personalized portfolio of stocks with historical log return data that is normally distributed.\n",
    "    \n",
    "    4) Test if the portfolio you created in the first mini-project has significant periods of time with evidence of normally distributed log returns.\n",
    "    \n",
    "    5) Gather x-number of historical stock data and just perform a normality test on their log return data to see if any of the stocks exhibit evidence of log returns that are normally distributed."
   ]
  },
  {
   "cell_type": "code",
   "execution_count": 1,
   "id": "5596fc5d",
   "metadata": {},
   "outputs": [],
   "source": [
    "# Package imports\n",
    "import numpy as np\n",
    "import pandas as pd\n",
    "import matplotlib.pyplot as plt\n",
    "import scipy.stats as stats\n",
    "import seaborn as sns\n",
    "import yfinance as yf\n",
    "import datetime as dt\n",
    "sns.set_style('darkgrid')"
   ]
  },
  {
   "cell_type": "markdown",
   "id": "c48fdb8f-0ec2-4189-828f-667d125c6cb0",
   "metadata": {},
   "source": [
    "Let's observe if there's any period of time where the log of Tesla stock returns have evidence of normal distribution."
   ]
  },
  {
   "cell_type": "code",
   "execution_count": 11,
   "id": "cf9f93a6-a25c-4299-bcdf-226e6fe762e4",
   "metadata": {},
   "outputs": [],
   "source": [
    "def t_logreturns(num_years=1):\n",
    "    \"\"\"\n",
    "    Estimates pi using the Monte Carlo method.\n",
    "\n",
    "    Args:\n",
    "      num_points: The number of random points to generate.\n",
    "\n",
    "    Returns:\n",
    "      An approximation of pi.\n",
    "    \"\"\"\n",
    "    n = num_years\n",
    "    start_date = dt.datetime.today() - dt.timedelta(days = n*365)\n",
    "    end_date = dt.datetime.today()\n",
    "    \n",
    "    TSLA_stock = yf.download('TSLA', start = start_date, end = end_date)\n",
    "    TSLA_returns = TSLA_stock['Close']/TSLA_stock['Close'].shift(1)\n",
    "    TSLA_logreturns = np.log(TSLA_returns.dropna())['TSLA'].values\n",
    "    \n",
    "    return TSLA_logreturns"
   ]
  },
  {
   "cell_type": "code",
   "execution_count": 12,
   "id": "2ccbfd40-8465-4d99-8394-4cb7fe2d071a",
   "metadata": {},
   "outputs": [
    {
     "name": "stderr",
     "output_type": "stream",
     "text": [
      "[*********************100%***********************]  1 of 1 completed"
     ]
    },
    {
     "name": "stdout",
     "output_type": "stream",
     "text": [
      "TSLA log return distribution: p-value = 0.0000\n",
      "→ Statistically significant evidence that the data is NOT normally distributed.\n",
      "--------------------------------------------------------------------------------\n",
      "--------------------------------------------------------------------------------\n"
     ]
    },
    {
     "name": "stderr",
     "output_type": "stream",
     "text": [
      "\n"
     ]
    }
   ],
   "source": [
    "#Collect p-values of normality tests\n",
    "p_tsla=stats.normaltest(t_logreturns(1))[1]\n",
    "\n",
    "\n",
    "#Print evidence/non-evidence of normality\n",
    "print(f\"TSLA log return distribution: p-value = {p_tsla:.4f}\")\n",
    "if p_tsla < 0.05:\n",
    "    print(\"→ Statistically significant evidence that the data is NOT normally distributed.\")\n",
    "else:\n",
    "    print(\"→ No statistically significant evidence against normality.\")\n",
    "    \n",
    "print('--'*40) \n",
    "print('--'*40) "
   ]
  },
  {
   "cell_type": "code",
   "execution_count": null,
   "id": "2e769e1d-5a48-4339-83d3-42c3a404db13",
   "metadata": {},
   "outputs": [],
   "source": []
  }
 ],
 "metadata": {
  "kernelspec": {
   "display_name": "Python [conda env:base] *",
   "language": "python",
   "name": "conda-base-py"
  },
  "language_info": {
   "codemirror_mode": {
    "name": "ipython",
    "version": 3
   },
   "file_extension": ".py",
   "mimetype": "text/x-python",
   "name": "python",
   "nbconvert_exporter": "python",
   "pygments_lexer": "ipython3",
   "version": "3.12.8"
  }
 },
 "nbformat": 4,
 "nbformat_minor": 5
}
